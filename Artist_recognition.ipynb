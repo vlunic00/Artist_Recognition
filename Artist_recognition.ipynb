{
  "nbformat": 4,
  "nbformat_minor": 0,
  "metadata": {
    "colab": {
      "provenance": [],
      "mount_file_id": "1kZHWnjWdyWGoDCwbrgbhotQbdCHRkgRc",
      "authorship_tag": "ABX9TyO4xDLwY+zFKwR614MNNtIo",
      "include_colab_link": true
    },
    "kernelspec": {
      "name": "python3",
      "display_name": "Python 3"
    },
    "language_info": {
      "name": "python"
    },
    "accelerator": "GPU",
    "gpuClass": "standard"
  },
  "cells": [
    {
      "cell_type": "markdown",
      "metadata": {
        "id": "view-in-github",
        "colab_type": "text"
      },
      "source": [
        "<a href=\"https://colab.research.google.com/github/vlunic00/Artist_Recognition/blob/main/Artist_recognition.ipynb\" target=\"_parent\"><img src=\"https://colab.research.google.com/assets/colab-badge.svg\" alt=\"Open In Colab\"/></a>"
      ]
    },
    {
      "cell_type": "code",
      "execution_count": 3,
      "metadata": {
        "colab": {
          "base_uri": "https://localhost:8080/",
          "height": 91
        },
        "id": "D2mRsaqdumr4",
        "outputId": "b4856d95-d127-4222-cac6-5143c0a13161"
      },
      "outputs": [
        {
          "output_type": "display_data",
          "data": {
            "text/plain": [
              "<IPython.core.display.HTML object>"
            ],
            "text/html": [
              "\n",
              "     <input type=\"file\" id=\"files-e64a2552-c9cf-40cc-95b1-617db721e02f\" name=\"files[]\" multiple disabled\n",
              "        style=\"border:none\" />\n",
              "     <output id=\"result-e64a2552-c9cf-40cc-95b1-617db721e02f\">\n",
              "      Upload widget is only available when the cell has been executed in the\n",
              "      current browser session. Please rerun this cell to enable.\n",
              "      </output>\n",
              "      <script>// Copyright 2017 Google LLC\n",
              "//\n",
              "// Licensed under the Apache License, Version 2.0 (the \"License\");\n",
              "// you may not use this file except in compliance with the License.\n",
              "// You may obtain a copy of the License at\n",
              "//\n",
              "//      http://www.apache.org/licenses/LICENSE-2.0\n",
              "//\n",
              "// Unless required by applicable law or agreed to in writing, software\n",
              "// distributed under the License is distributed on an \"AS IS\" BASIS,\n",
              "// WITHOUT WARRANTIES OR CONDITIONS OF ANY KIND, either express or implied.\n",
              "// See the License for the specific language governing permissions and\n",
              "// limitations under the License.\n",
              "\n",
              "/**\n",
              " * @fileoverview Helpers for google.colab Python module.\n",
              " */\n",
              "(function(scope) {\n",
              "function span(text, styleAttributes = {}) {\n",
              "  const element = document.createElement('span');\n",
              "  element.textContent = text;\n",
              "  for (const key of Object.keys(styleAttributes)) {\n",
              "    element.style[key] = styleAttributes[key];\n",
              "  }\n",
              "  return element;\n",
              "}\n",
              "\n",
              "// Max number of bytes which will be uploaded at a time.\n",
              "const MAX_PAYLOAD_SIZE = 100 * 1024;\n",
              "\n",
              "function _uploadFiles(inputId, outputId) {\n",
              "  const steps = uploadFilesStep(inputId, outputId);\n",
              "  const outputElement = document.getElementById(outputId);\n",
              "  // Cache steps on the outputElement to make it available for the next call\n",
              "  // to uploadFilesContinue from Python.\n",
              "  outputElement.steps = steps;\n",
              "\n",
              "  return _uploadFilesContinue(outputId);\n",
              "}\n",
              "\n",
              "// This is roughly an async generator (not supported in the browser yet),\n",
              "// where there are multiple asynchronous steps and the Python side is going\n",
              "// to poll for completion of each step.\n",
              "// This uses a Promise to block the python side on completion of each step,\n",
              "// then passes the result of the previous step as the input to the next step.\n",
              "function _uploadFilesContinue(outputId) {\n",
              "  const outputElement = document.getElementById(outputId);\n",
              "  const steps = outputElement.steps;\n",
              "\n",
              "  const next = steps.next(outputElement.lastPromiseValue);\n",
              "  return Promise.resolve(next.value.promise).then((value) => {\n",
              "    // Cache the last promise value to make it available to the next\n",
              "    // step of the generator.\n",
              "    outputElement.lastPromiseValue = value;\n",
              "    return next.value.response;\n",
              "  });\n",
              "}\n",
              "\n",
              "/**\n",
              " * Generator function which is called between each async step of the upload\n",
              " * process.\n",
              " * @param {string} inputId Element ID of the input file picker element.\n",
              " * @param {string} outputId Element ID of the output display.\n",
              " * @return {!Iterable<!Object>} Iterable of next steps.\n",
              " */\n",
              "function* uploadFilesStep(inputId, outputId) {\n",
              "  const inputElement = document.getElementById(inputId);\n",
              "  inputElement.disabled = false;\n",
              "\n",
              "  const outputElement = document.getElementById(outputId);\n",
              "  outputElement.innerHTML = '';\n",
              "\n",
              "  const pickedPromise = new Promise((resolve) => {\n",
              "    inputElement.addEventListener('change', (e) => {\n",
              "      resolve(e.target.files);\n",
              "    });\n",
              "  });\n",
              "\n",
              "  const cancel = document.createElement('button');\n",
              "  inputElement.parentElement.appendChild(cancel);\n",
              "  cancel.textContent = 'Cancel upload';\n",
              "  const cancelPromise = new Promise((resolve) => {\n",
              "    cancel.onclick = () => {\n",
              "      resolve(null);\n",
              "    };\n",
              "  });\n",
              "\n",
              "  // Wait for the user to pick the files.\n",
              "  const files = yield {\n",
              "    promise: Promise.race([pickedPromise, cancelPromise]),\n",
              "    response: {\n",
              "      action: 'starting',\n",
              "    }\n",
              "  };\n",
              "\n",
              "  cancel.remove();\n",
              "\n",
              "  // Disable the input element since further picks are not allowed.\n",
              "  inputElement.disabled = true;\n",
              "\n",
              "  if (!files) {\n",
              "    return {\n",
              "      response: {\n",
              "        action: 'complete',\n",
              "      }\n",
              "    };\n",
              "  }\n",
              "\n",
              "  for (const file of files) {\n",
              "    const li = document.createElement('li');\n",
              "    li.append(span(file.name, {fontWeight: 'bold'}));\n",
              "    li.append(span(\n",
              "        `(${file.type || 'n/a'}) - ${file.size} bytes, ` +\n",
              "        `last modified: ${\n",
              "            file.lastModifiedDate ? file.lastModifiedDate.toLocaleDateString() :\n",
              "                                    'n/a'} - `));\n",
              "    const percent = span('0% done');\n",
              "    li.appendChild(percent);\n",
              "\n",
              "    outputElement.appendChild(li);\n",
              "\n",
              "    const fileDataPromise = new Promise((resolve) => {\n",
              "      const reader = new FileReader();\n",
              "      reader.onload = (e) => {\n",
              "        resolve(e.target.result);\n",
              "      };\n",
              "      reader.readAsArrayBuffer(file);\n",
              "    });\n",
              "    // Wait for the data to be ready.\n",
              "    let fileData = yield {\n",
              "      promise: fileDataPromise,\n",
              "      response: {\n",
              "        action: 'continue',\n",
              "      }\n",
              "    };\n",
              "\n",
              "    // Use a chunked sending to avoid message size limits. See b/62115660.\n",
              "    let position = 0;\n",
              "    do {\n",
              "      const length = Math.min(fileData.byteLength - position, MAX_PAYLOAD_SIZE);\n",
              "      const chunk = new Uint8Array(fileData, position, length);\n",
              "      position += length;\n",
              "\n",
              "      const base64 = btoa(String.fromCharCode.apply(null, chunk));\n",
              "      yield {\n",
              "        response: {\n",
              "          action: 'append',\n",
              "          file: file.name,\n",
              "          data: base64,\n",
              "        },\n",
              "      };\n",
              "\n",
              "      let percentDone = fileData.byteLength === 0 ?\n",
              "          100 :\n",
              "          Math.round((position / fileData.byteLength) * 100);\n",
              "      percent.textContent = `${percentDone}% done`;\n",
              "\n",
              "    } while (position < fileData.byteLength);\n",
              "  }\n",
              "\n",
              "  // All done.\n",
              "  yield {\n",
              "    response: {\n",
              "      action: 'complete',\n",
              "    }\n",
              "  };\n",
              "}\n",
              "\n",
              "scope.google = scope.google || {};\n",
              "scope.google.colab = scope.google.colab || {};\n",
              "scope.google.colab._files = {\n",
              "  _uploadFiles,\n",
              "  _uploadFilesContinue,\n",
              "};\n",
              "})(self);\n",
              "</script> "
            ]
          },
          "metadata": {}
        },
        {
          "output_type": "stream",
          "name": "stdout",
          "text": [
            "Saving artists.csv to artists.csv\n"
          ]
        },
        {
          "output_type": "execute_result",
          "data": {
            "text/plain": [
              "'2.12.0'"
            ],
            "application/vnd.google.colaboratory.intrinsic+json": {
              "type": "string"
            }
          },
          "metadata": {},
          "execution_count": 3
        }
      ],
      "source": [
        "import os\n",
        "import numpy as np\n",
        "import pandas as pd\n",
        "import cv2\n",
        "from sklearn.metrics import confusion_matrix\n",
        "from sklearn.model_selection import train_test_split\n",
        "\n",
        "import tensorflow as tf\n",
        "from tensorflow.keras.applications.vgg19 import VGG19, preprocess_input\n",
        "from tensorflow.keras.callbacks import EarlyStopping\n",
        "from tensorflow.keras.layers import (BatchNormalization,\n",
        "                                     Dense,\n",
        "                                     Dropout,\n",
        "                                     Flatten,\n",
        "                                     Input,\n",
        "                                     RandomFlip,\n",
        "                                     RandomRotation,\n",
        "                                     RandomTranslation,\n",
        "                                     RandomZoom)\n",
        "from tensorflow.keras.models import Model, Sequential\n",
        "\n",
        "import matplotlib.pyplot as plt\n",
        "import seaborn as sns\n",
        "\n",
        "from google.colab import files\n",
        "uploaded = files.upload()\n",
        "\n",
        "tf.__version__"
      ]
    },
    {
      "cell_type": "code",
      "source": [
        "sns.set_style('whitegrid')"
      ],
      "metadata": {
        "id": "9r7eZy1kwCdF"
      },
      "execution_count": 4,
      "outputs": []
    },
    {
      "cell_type": "code",
      "source": [
        "# preparing the artist data\n",
        "# won't be using artists with less than 100 paintings in the dataset -- to few too be accurate\n",
        "\n",
        "min_num_paintings = 100\n",
        "\n",
        "#best to use a pretrained model due to a lack of data\n",
        "base_model_trainable = False"
      ],
      "metadata": {
        "id": "y8e77i5ixiwk"
      },
      "execution_count": 5,
      "outputs": []
    },
    {
      "cell_type": "code",
      "source": [
        "import io\n",
        "\n",
        "df = pd.read_csv(io.BytesIO(uploaded['artists.csv']))"
      ],
      "metadata": {
        "id": "eeAIVDdyyRUC"
      },
      "execution_count": 6,
      "outputs": []
    },
    {
      "cell_type": "code",
      "source": [
        "df.head()"
      ],
      "metadata": {
        "colab": {
          "base_uri": "https://localhost:8080/",
          "height": 337
        },
        "id": "T6zu3gekijLg",
        "outputId": "30404cdb-04c6-4eb1-d708-cda8d96a16e8"
      },
      "execution_count": 7,
      "outputs": [
        {
          "output_type": "execute_result",
          "data": {
            "text/plain": [
              "   id                name        years                         genre  \\\n",
              "0   0   Amedeo Modigliani  1884 - 1920                 Expressionism   \n",
              "1   1  Vasiliy Kandinskiy  1866 - 1944  Expressionism,Abstractionism   \n",
              "2   2        Diego Rivera  1886 - 1957       Social Realism,Muralism   \n",
              "3   3        Claude Monet  1840 - 1926                 Impressionism   \n",
              "4   4       Rene Magritte  1898 - 1967      Surrealism,Impressionism   \n",
              "\n",
              "  nationality                                                bio  \\\n",
              "0     Italian  Amedeo Clemente Modigliani (Italian pronunciat...   \n",
              "1     Russian  Wassily Wassilyevich Kandinsky (Russian: Васи́...   \n",
              "2     Mexican  Diego María de la Concepción Juan Nepomuceno E...   \n",
              "3      French  Oscar-Claude Monet (; French: [klod mɔnɛ]; 14 ...   \n",
              "4     Belgian  René François Ghislain Magritte (French: [ʁəne...   \n",
              "\n",
              "                                        wikipedia  paintings  \n",
              "0  http://en.wikipedia.org/wiki/Amedeo_Modigliani        193  \n",
              "1  http://en.wikipedia.org/wiki/Wassily_Kandinsky         88  \n",
              "2       http://en.wikipedia.org/wiki/Diego_Rivera         70  \n",
              "3       http://en.wikipedia.org/wiki/Claude_Monet         73  \n",
              "4      http://en.wikipedia.org/wiki/René_Magritte        194  "
            ],
            "text/html": [
              "\n",
              "  <div id=\"df-01b867f8-431f-42a4-b3bf-4cc3055d1f8a\">\n",
              "    <div class=\"colab-df-container\">\n",
              "      <div>\n",
              "<style scoped>\n",
              "    .dataframe tbody tr th:only-of-type {\n",
              "        vertical-align: middle;\n",
              "    }\n",
              "\n",
              "    .dataframe tbody tr th {\n",
              "        vertical-align: top;\n",
              "    }\n",
              "\n",
              "    .dataframe thead th {\n",
              "        text-align: right;\n",
              "    }\n",
              "</style>\n",
              "<table border=\"1\" class=\"dataframe\">\n",
              "  <thead>\n",
              "    <tr style=\"text-align: right;\">\n",
              "      <th></th>\n",
              "      <th>id</th>\n",
              "      <th>name</th>\n",
              "      <th>years</th>\n",
              "      <th>genre</th>\n",
              "      <th>nationality</th>\n",
              "      <th>bio</th>\n",
              "      <th>wikipedia</th>\n",
              "      <th>paintings</th>\n",
              "    </tr>\n",
              "  </thead>\n",
              "  <tbody>\n",
              "    <tr>\n",
              "      <th>0</th>\n",
              "      <td>0</td>\n",
              "      <td>Amedeo Modigliani</td>\n",
              "      <td>1884 - 1920</td>\n",
              "      <td>Expressionism</td>\n",
              "      <td>Italian</td>\n",
              "      <td>Amedeo Clemente Modigliani (Italian pronunciat...</td>\n",
              "      <td>http://en.wikipedia.org/wiki/Amedeo_Modigliani</td>\n",
              "      <td>193</td>\n",
              "    </tr>\n",
              "    <tr>\n",
              "      <th>1</th>\n",
              "      <td>1</td>\n",
              "      <td>Vasiliy Kandinskiy</td>\n",
              "      <td>1866 - 1944</td>\n",
              "      <td>Expressionism,Abstractionism</td>\n",
              "      <td>Russian</td>\n",
              "      <td>Wassily Wassilyevich Kandinsky (Russian: Васи́...</td>\n",
              "      <td>http://en.wikipedia.org/wiki/Wassily_Kandinsky</td>\n",
              "      <td>88</td>\n",
              "    </tr>\n",
              "    <tr>\n",
              "      <th>2</th>\n",
              "      <td>2</td>\n",
              "      <td>Diego Rivera</td>\n",
              "      <td>1886 - 1957</td>\n",
              "      <td>Social Realism,Muralism</td>\n",
              "      <td>Mexican</td>\n",
              "      <td>Diego María de la Concepción Juan Nepomuceno E...</td>\n",
              "      <td>http://en.wikipedia.org/wiki/Diego_Rivera</td>\n",
              "      <td>70</td>\n",
              "    </tr>\n",
              "    <tr>\n",
              "      <th>3</th>\n",
              "      <td>3</td>\n",
              "      <td>Claude Monet</td>\n",
              "      <td>1840 - 1926</td>\n",
              "      <td>Impressionism</td>\n",
              "      <td>French</td>\n",
              "      <td>Oscar-Claude Monet (; French: [klod mɔnɛ]; 14 ...</td>\n",
              "      <td>http://en.wikipedia.org/wiki/Claude_Monet</td>\n",
              "      <td>73</td>\n",
              "    </tr>\n",
              "    <tr>\n",
              "      <th>4</th>\n",
              "      <td>4</td>\n",
              "      <td>Rene Magritte</td>\n",
              "      <td>1898 - 1967</td>\n",
              "      <td>Surrealism,Impressionism</td>\n",
              "      <td>Belgian</td>\n",
              "      <td>René François Ghislain Magritte (French: [ʁəne...</td>\n",
              "      <td>http://en.wikipedia.org/wiki/René_Magritte</td>\n",
              "      <td>194</td>\n",
              "    </tr>\n",
              "  </tbody>\n",
              "</table>\n",
              "</div>\n",
              "      <button class=\"colab-df-convert\" onclick=\"convertToInteractive('df-01b867f8-431f-42a4-b3bf-4cc3055d1f8a')\"\n",
              "              title=\"Convert this dataframe to an interactive table.\"\n",
              "              style=\"display:none;\">\n",
              "        \n",
              "  <svg xmlns=\"http://www.w3.org/2000/svg\" height=\"24px\"viewBox=\"0 0 24 24\"\n",
              "       width=\"24px\">\n",
              "    <path d=\"M0 0h24v24H0V0z\" fill=\"none\"/>\n",
              "    <path d=\"M18.56 5.44l.94 2.06.94-2.06 2.06-.94-2.06-.94-.94-2.06-.94 2.06-2.06.94zm-11 1L8.5 8.5l.94-2.06 2.06-.94-2.06-.94L8.5 2.5l-.94 2.06-2.06.94zm10 10l.94 2.06.94-2.06 2.06-.94-2.06-.94-.94-2.06-.94 2.06-2.06.94z\"/><path d=\"M17.41 7.96l-1.37-1.37c-.4-.4-.92-.59-1.43-.59-.52 0-1.04.2-1.43.59L10.3 9.45l-7.72 7.72c-.78.78-.78 2.05 0 2.83L4 21.41c.39.39.9.59 1.41.59.51 0 1.02-.2 1.41-.59l7.78-7.78 2.81-2.81c.8-.78.8-2.07 0-2.86zM5.41 20L4 18.59l7.72-7.72 1.47 1.35L5.41 20z\"/>\n",
              "  </svg>\n",
              "      </button>\n",
              "      \n",
              "  <style>\n",
              "    .colab-df-container {\n",
              "      display:flex;\n",
              "      flex-wrap:wrap;\n",
              "      gap: 12px;\n",
              "    }\n",
              "\n",
              "    .colab-df-convert {\n",
              "      background-color: #E8F0FE;\n",
              "      border: none;\n",
              "      border-radius: 50%;\n",
              "      cursor: pointer;\n",
              "      display: none;\n",
              "      fill: #1967D2;\n",
              "      height: 32px;\n",
              "      padding: 0 0 0 0;\n",
              "      width: 32px;\n",
              "    }\n",
              "\n",
              "    .colab-df-convert:hover {\n",
              "      background-color: #E2EBFA;\n",
              "      box-shadow: 0px 1px 2px rgba(60, 64, 67, 0.3), 0px 1px 3px 1px rgba(60, 64, 67, 0.15);\n",
              "      fill: #174EA6;\n",
              "    }\n",
              "\n",
              "    [theme=dark] .colab-df-convert {\n",
              "      background-color: #3B4455;\n",
              "      fill: #D2E3FC;\n",
              "    }\n",
              "\n",
              "    [theme=dark] .colab-df-convert:hover {\n",
              "      background-color: #434B5C;\n",
              "      box-shadow: 0px 1px 3px 1px rgba(0, 0, 0, 0.15);\n",
              "      filter: drop-shadow(0px 1px 2px rgba(0, 0, 0, 0.3));\n",
              "      fill: #FFFFFF;\n",
              "    }\n",
              "  </style>\n",
              "\n",
              "      <script>\n",
              "        const buttonEl =\n",
              "          document.querySelector('#df-01b867f8-431f-42a4-b3bf-4cc3055d1f8a button.colab-df-convert');\n",
              "        buttonEl.style.display =\n",
              "          google.colab.kernel.accessAllowed ? 'block' : 'none';\n",
              "\n",
              "        async function convertToInteractive(key) {\n",
              "          const element = document.querySelector('#df-01b867f8-431f-42a4-b3bf-4cc3055d1f8a');\n",
              "          const dataTable =\n",
              "            await google.colab.kernel.invokeFunction('convertToInteractive',\n",
              "                                                     [key], {});\n",
              "          if (!dataTable) return;\n",
              "\n",
              "          const docLinkHtml = 'Like what you see? Visit the ' +\n",
              "            '<a target=\"_blank\" href=https://colab.research.google.com/notebooks/data_table.ipynb>data table notebook</a>'\n",
              "            + ' to learn more about interactive tables.';\n",
              "          element.innerHTML = '';\n",
              "          dataTable['output_type'] = 'display_data';\n",
              "          await google.colab.output.renderOutput(dataTable, element);\n",
              "          const docLink = document.createElement('div');\n",
              "          docLink.innerHTML = docLinkHtml;\n",
              "          element.appendChild(docLink);\n",
              "        }\n",
              "      </script>\n",
              "    </div>\n",
              "  </div>\n",
              "  "
            ]
          },
          "metadata": {},
          "execution_count": 7
        }
      ]
    },
    {
      "cell_type": "code",
      "source": [
        "# bio and wikipedia are irrelevant for this model (might expand model later to show more info)\n",
        "\n",
        "df = df.drop(['bio', 'wikipedia'], axis=1)\n",
        "\n",
        "# remove artists with not enough paintings\n",
        "\n",
        "df = df.loc[df['paintings'] >= min_num_paintings]\n",
        "df = df.reset_index(drop=True)"
      ],
      "metadata": {
        "id": "cM9rED7qipTl"
      },
      "execution_count": 8,
      "outputs": []
    },
    {
      "cell_type": "code",
      "source": [
        "# the dataset is imbalanced (some artists have a lot more paintings in it)\n",
        "# therefore we need to alter the weights to somewhat lessen the impact on the model\n",
        "\n",
        "df['class_weight'] = df['paintings'].sum() / (df.shape[0] * df['paintings'])"
      ],
      "metadata": {
        "id": "7TtRG5DGiu1F"
      },
      "execution_count": 9,
      "outputs": []
    },
    {
      "cell_type": "code",
      "source": [
        "# we will need the class_weights for training\n",
        "\n",
        "class_weights = df['class_weight'].to_dict()\n",
        "\n",
        "# name_mapping will be used to translate the predicted integer to the artist name\n",
        "name_mapping = df['name'].to_dict()\n",
        "\n",
        "#name_mapping_reverse will be used to add the correct labels to the resized images\n",
        "\n",
        "name_mapping_reverse = {y: x for x, y in name_mapping.items()}\n",
        "\n",
        "# n_classes will be used for model construction\n",
        "\n",
        "n_classes = len(class_weights)"
      ],
      "metadata": {
        "id": "spyzttCAiwB4"
      },
      "execution_count": 10,
      "outputs": []
    },
    {
      "cell_type": "code",
      "source": [
        "img_dir = 'drive/MyDrive/resized'\n",
        "\n",
        "# the model works with 256x256 images\n",
        "\n",
        "img_height = 256\n",
        "img_width = 256\n",
        "\n",
        "files = os.listdir(img_dir)\n",
        "\n",
        "# img_list contains the images\n",
        "# label list contains the artist names\n",
        "\n",
        "img_list = []\n",
        "label_list = []\n",
        "\n",
        "# in the loop we go through each image, checking if the artist name is in our dataframe\n",
        "# and putting it in the label_list. We then add the corresponding image to the img_list\n",
        "# so that the indices are the same for the corresponding artist and painting\n",
        "\n",
        "for file in files:\n",
        "    idx = file.rfind('_')\n",
        "    name = file[:idx].replace('_', ' ')\n",
        "    if name in name_mapping_reverse.keys():\n",
        "        label_list.append(name_mapping_reverse[name])\n",
        "        img = cv2.imread(os.path.join(img_dir, file))\n",
        "        img = cv2.resize(img, (img_height, img_width))\n",
        "        img_list.append(img)\n",
        "\n",
        "images = np.asarray(img_list)\n",
        "labels = np.asarray(label_list)"
      ],
      "metadata": {
        "id": "6twAYcvCiyxp"
      },
      "execution_count": 11,
      "outputs": []
    },
    {
      "cell_type": "code",
      "source": [
        "# due to the small amount of data, I opted for a 80-10-10 split\n",
        "\n",
        "X, X_test, y, y_test = train_test_split(images,\n",
        "                                        labels,\n",
        "                                        test_size = 0.1,\n",
        "                                        random_state = 13)\n",
        "\n",
        "X_train, X_val, y_train, y_val = train_test_split(X,\n",
        "                                                  y,\n",
        "                                                  test_size = 1/9,\n",
        "                                                  random_state = 13)"
      ],
      "metadata": {
        "id": "tvsiUaV6kk9I"
      },
      "execution_count": 12,
      "outputs": []
    },
    {
      "cell_type": "code",
      "source": [
        "# we will be using the VGG19 model\n",
        "base_model = VGG19(include_top=False,\n",
        "                    classes = n_classes,\n",
        "                    input_shape = (img_height, img_width, 3))\n",
        "\n",
        "base_model.trainable = base_model_trainable\n",
        "base_model.summary()"
      ],
      "metadata": {
        "colab": {
          "base_uri": "https://localhost:8080/"
        },
        "id": "1n4YTowwkp_a",
        "outputId": "d23ae475-a8db-4a8e-a44e-94be36b5bd6d"
      },
      "execution_count": 13,
      "outputs": [
        {
          "output_type": "stream",
          "name": "stdout",
          "text": [
            "Downloading data from https://storage.googleapis.com/tensorflow/keras-applications/vgg19/vgg19_weights_tf_dim_ordering_tf_kernels_notop.h5\n",
            "80134624/80134624 [==============================] - 5s 0us/step\n",
            "Model: \"vgg19\"\n",
            "_________________________________________________________________\n",
            " Layer (type)                Output Shape              Param #   \n",
            "=================================================================\n",
            " input_1 (InputLayer)        [(None, 256, 256, 3)]     0         \n",
            "                                                                 \n",
            " block1_conv1 (Conv2D)       (None, 256, 256, 64)      1792      \n",
            "                                                                 \n",
            " block1_conv2 (Conv2D)       (None, 256, 256, 64)      36928     \n",
            "                                                                 \n",
            " block1_pool (MaxPooling2D)  (None, 128, 128, 64)      0         \n",
            "                                                                 \n",
            " block2_conv1 (Conv2D)       (None, 128, 128, 128)     73856     \n",
            "                                                                 \n",
            " block2_conv2 (Conv2D)       (None, 128, 128, 128)     147584    \n",
            "                                                                 \n",
            " block2_pool (MaxPooling2D)  (None, 64, 64, 128)       0         \n",
            "                                                                 \n",
            " block3_conv1 (Conv2D)       (None, 64, 64, 256)       295168    \n",
            "                                                                 \n",
            " block3_conv2 (Conv2D)       (None, 64, 64, 256)       590080    \n",
            "                                                                 \n",
            " block3_conv3 (Conv2D)       (None, 64, 64, 256)       590080    \n",
            "                                                                 \n",
            " block3_conv4 (Conv2D)       (None, 64, 64, 256)       590080    \n",
            "                                                                 \n",
            " block3_pool (MaxPooling2D)  (None, 32, 32, 256)       0         \n",
            "                                                                 \n",
            " block4_conv1 (Conv2D)       (None, 32, 32, 512)       1180160   \n",
            "                                                                 \n",
            " block4_conv2 (Conv2D)       (None, 32, 32, 512)       2359808   \n",
            "                                                                 \n",
            " block4_conv3 (Conv2D)       (None, 32, 32, 512)       2359808   \n",
            "                                                                 \n",
            " block4_conv4 (Conv2D)       (None, 32, 32, 512)       2359808   \n",
            "                                                                 \n",
            " block4_pool (MaxPooling2D)  (None, 16, 16, 512)       0         \n",
            "                                                                 \n",
            " block5_conv1 (Conv2D)       (None, 16, 16, 512)       2359808   \n",
            "                                                                 \n",
            " block5_conv2 (Conv2D)       (None, 16, 16, 512)       2359808   \n",
            "                                                                 \n",
            " block5_conv3 (Conv2D)       (None, 16, 16, 512)       2359808   \n",
            "                                                                 \n",
            " block5_conv4 (Conv2D)       (None, 16, 16, 512)       2359808   \n",
            "                                                                 \n",
            " block5_pool (MaxPooling2D)  (None, 8, 8, 512)         0         \n",
            "                                                                 \n",
            "=================================================================\n",
            "Total params: 20,024,384\n",
            "Trainable params: 0\n",
            "Non-trainable params: 20,024,384\n",
            "_________________________________________________________________\n"
          ]
        }
      ]
    },
    {
      "cell_type": "code",
      "source": [
        "# since we aren't working with too much data, some data augmentation should be useful\n",
        "\n",
        "data_augmentation = Sequential([\n",
        "    RandomFlip('horizontal'),\n",
        "    RandomFlip('vertical'),\n",
        "    RandomRotation(0.2),\n",
        "    RandomZoom(0.1),\n",
        "    RandomTranslation(0.1, 0.1),\n",
        "])"
      ],
      "metadata": {
        "id": "8Tt6kCVfkuAA"
      },
      "execution_count": 14,
      "outputs": []
    },
    {
      "cell_type": "code",
      "source": [
        "# here we create the last part of our model, one that's meant to classify the paintings\n",
        "\n",
        "prediction = Sequential([\n",
        "    Flatten(),\n",
        "    Dense(512),\n",
        "    BatchNormalization(),\n",
        "    Dropout(0.1),\n",
        "    Dense(512),\n",
        "    Dense(n_classes, activation = 'softmax'),\n",
        "])"
      ],
      "metadata": {
        "id": "MDPbiMfVkxC9"
      },
      "execution_count": 15,
      "outputs": []
    },
    {
      "cell_type": "code",
      "source": [
        "# the final model looks like this:\n",
        "# we add the data_augmentation layer to the front\n",
        "# then the imported preprocess_input layer\n",
        "# and at the end of the base_model we add our custom predictions layer\n",
        "\n",
        "inputs = Input(shape=(img_height, img_width, 3))\n",
        "x = data_augmentation(inputs)\n",
        "x = preprocess_input(x)\n",
        "x = base_model(x)\n",
        "outputs = prediction(x)\n",
        "\n",
        "model = Model(inputs, outputs)"
      ],
      "metadata": {
        "id": "WZM-SvGekzAp"
      },
      "execution_count": 16,
      "outputs": []
    },
    {
      "cell_type": "code",
      "source": [
        "model.compile(loss='sparse_categorical_crossentropy',\n",
        "              optimizer='adam',\n",
        "              metrics=['accuracy'])\n",
        "model.summary()"
      ],
      "metadata": {
        "colab": {
          "base_uri": "https://localhost:8080/"
        },
        "id": "nutm0qm8k6BC",
        "outputId": "632aee80-2f29-4f7e-a362-6e6ba8659c47"
      },
      "execution_count": 17,
      "outputs": [
        {
          "output_type": "stream",
          "name": "stdout",
          "text": [
            "Model: \"model\"\n",
            "_________________________________________________________________\n",
            " Layer (type)                Output Shape              Param #   \n",
            "=================================================================\n",
            " input_2 (InputLayer)        [(None, 256, 256, 3)]     0         \n",
            "                                                                 \n",
            " sequential (Sequential)     (None, 256, 256, 3)       0         \n",
            "                                                                 \n",
            " tf.__operators__.getitem (S  (None, 256, 256, 3)      0         \n",
            " licingOpLambda)                                                 \n",
            "                                                                 \n",
            " tf.nn.bias_add (TFOpLambda)  (None, 256, 256, 3)      0         \n",
            "                                                                 \n",
            " vgg19 (Functional)          (None, 8, 8, 512)         20024384  \n",
            "                                                                 \n",
            " sequential_1 (Sequential)   (None, 30)                17057822  \n",
            "                                                                 \n",
            "=================================================================\n",
            "Total params: 37,082,206\n",
            "Trainable params: 17,056,798\n",
            "Non-trainable params: 20,025,408\n",
            "_________________________________________________________________\n"
          ]
        }
      ]
    },
    {
      "cell_type": "code",
      "source": [
        "epochs = 100\n",
        "\n",
        "# we'll use smaller batch sizes in an attempt to avoid overfitting\n",
        "\n",
        "batch_size = 16\n",
        "\n",
        "early_stopping = EarlyStopping(patience=20,\n",
        "                               verbose = 2,\n",
        "                               restore_best_weights = True)\n",
        "\n",
        "history = model.fit(X_train,\n",
        "                    y_train,\n",
        "                    validation_data = (X_val, y_val),\n",
        "                    class_weight = class_weights,\n",
        "                    epochs = epochs,\n",
        "                    batch_size = batch_size,\n",
        "                    callbacks = early_stopping)\n",
        "\n"
      ],
      "metadata": {
        "id": "uE1n0YPWk9WQ",
        "colab": {
          "base_uri": "https://localhost:8080/"
        },
        "outputId": "68eafba2-69ed-4157-82eb-0e726ed706f8"
      },
      "execution_count": 18,
      "outputs": [
        {
          "output_type": "stream",
          "name": "stdout",
          "text": [
            "Epoch 1/100\n",
            "335/335 [==============================] - 67s 137ms/step - loss: 3.3806 - accuracy: 0.2975 - val_loss: 3.8882 - val_accuracy: 0.3782\n",
            "Epoch 2/100\n",
            "335/335 [==============================] - 38s 114ms/step - loss: 2.1601 - accuracy: 0.4186 - val_loss: 2.9250 - val_accuracy: 0.4021\n",
            "Epoch 3/100\n",
            "335/335 [==============================] - 40s 120ms/step - loss: 1.7871 - accuracy: 0.4758 - val_loss: 2.5520 - val_accuracy: 0.4320\n",
            "Epoch 4/100\n",
            "335/335 [==============================] - 41s 122ms/step - loss: 1.7128 - accuracy: 0.5001 - val_loss: 2.2519 - val_accuracy: 0.4634\n",
            "Epoch 5/100\n",
            "335/335 [==============================] - 41s 124ms/step - loss: 1.5361 - accuracy: 0.5270 - val_loss: 2.1062 - val_accuracy: 0.4903\n",
            "Epoch 6/100\n",
            "335/335 [==============================] - 41s 124ms/step - loss: 1.4535 - accuracy: 0.5457 - val_loss: 2.2808 - val_accuracy: 0.4828\n",
            "Epoch 7/100\n",
            "335/335 [==============================] - 41s 122ms/step - loss: 1.3851 - accuracy: 0.5577 - val_loss: 2.2017 - val_accuracy: 0.4993\n",
            "Epoch 8/100\n",
            "335/335 [==============================] - 41s 123ms/step - loss: 1.3663 - accuracy: 0.5707 - val_loss: 2.2503 - val_accuracy: 0.4828\n",
            "Epoch 9/100\n",
            "335/335 [==============================] - 42s 127ms/step - loss: 1.2924 - accuracy: 0.5816 - val_loss: 2.1582 - val_accuracy: 0.5007\n",
            "Epoch 10/100\n",
            "335/335 [==============================] - 43s 128ms/step - loss: 1.2848 - accuracy: 0.5836 - val_loss: 1.9390 - val_accuracy: 0.5650\n",
            "Epoch 11/100\n",
            "335/335 [==============================] - 43s 128ms/step - loss: 1.2720 - accuracy: 0.5920 - val_loss: 2.2882 - val_accuracy: 0.4963\n",
            "Epoch 12/100\n",
            "335/335 [==============================] - 43s 128ms/step - loss: 1.2236 - accuracy: 0.5904 - val_loss: 1.9968 - val_accuracy: 0.5486\n",
            "Epoch 13/100\n",
            "335/335 [==============================] - 43s 128ms/step - loss: 1.2050 - accuracy: 0.6141 - val_loss: 2.0469 - val_accuracy: 0.5366\n",
            "Epoch 14/100\n",
            "335/335 [==============================] - 43s 128ms/step - loss: 1.1785 - accuracy: 0.6167 - val_loss: 1.9707 - val_accuracy: 0.5546\n",
            "Epoch 15/100\n",
            "335/335 [==============================] - 43s 128ms/step - loss: 1.1779 - accuracy: 0.6171 - val_loss: 2.3389 - val_accuracy: 0.5247\n",
            "Epoch 16/100\n",
            "335/335 [==============================] - 42s 125ms/step - loss: 1.1058 - accuracy: 0.6318 - val_loss: 2.1767 - val_accuracy: 0.5336\n",
            "Epoch 17/100\n",
            "335/335 [==============================] - 42s 126ms/step - loss: 1.1167 - accuracy: 0.6311 - val_loss: 2.1669 - val_accuracy: 0.5336\n",
            "Epoch 18/100\n",
            "335/335 [==============================] - 43s 128ms/step - loss: 1.0687 - accuracy: 0.6307 - val_loss: 2.2182 - val_accuracy: 0.5172\n",
            "Epoch 19/100\n",
            "335/335 [==============================] - 43s 128ms/step - loss: 1.0795 - accuracy: 0.6391 - val_loss: 1.9337 - val_accuracy: 0.5785\n",
            "Epoch 20/100\n",
            "335/335 [==============================] - 43s 128ms/step - loss: 1.0461 - accuracy: 0.6492 - val_loss: 2.0603 - val_accuracy: 0.5247\n",
            "Epoch 21/100\n",
            "335/335 [==============================] - 43s 128ms/step - loss: 1.0254 - accuracy: 0.6558 - val_loss: 1.9228 - val_accuracy: 0.5501\n",
            "Epoch 22/100\n",
            "335/335 [==============================] - 42s 126ms/step - loss: 0.9783 - accuracy: 0.6556 - val_loss: 2.0038 - val_accuracy: 0.5486\n",
            "Epoch 23/100\n",
            "335/335 [==============================] - 42s 126ms/step - loss: 0.9603 - accuracy: 0.6660 - val_loss: 2.0138 - val_accuracy: 0.5665\n",
            "Epoch 24/100\n",
            "335/335 [==============================] - 43s 128ms/step - loss: 0.9344 - accuracy: 0.6696 - val_loss: 2.0123 - val_accuracy: 0.5620\n",
            "Epoch 25/100\n",
            "335/335 [==============================] - 42s 126ms/step - loss: 0.9335 - accuracy: 0.6664 - val_loss: 2.0671 - val_accuracy: 0.5486\n",
            "Epoch 26/100\n",
            "335/335 [==============================] - 43s 128ms/step - loss: 0.9491 - accuracy: 0.6653 - val_loss: 2.1179 - val_accuracy: 0.5650\n",
            "Epoch 27/100\n",
            "335/335 [==============================] - 43s 128ms/step - loss: 0.8886 - accuracy: 0.6816 - val_loss: 2.0653 - val_accuracy: 0.5546\n",
            "Epoch 28/100\n",
            "335/335 [==============================] - 42s 126ms/step - loss: 0.9157 - accuracy: 0.6733 - val_loss: 2.0678 - val_accuracy: 0.5665\n",
            "Epoch 29/100\n",
            "335/335 [==============================] - 42s 126ms/step - loss: 0.8744 - accuracy: 0.6840 - val_loss: 2.0786 - val_accuracy: 0.5590\n",
            "Epoch 30/100\n",
            "335/335 [==============================] - 43s 127ms/step - loss: 0.8731 - accuracy: 0.6984 - val_loss: 2.1015 - val_accuracy: 0.5695\n",
            "Epoch 31/100\n",
            "335/335 [==============================] - 43s 127ms/step - loss: 0.8906 - accuracy: 0.6860 - val_loss: 2.1564 - val_accuracy: 0.5456\n",
            "Epoch 32/100\n",
            "335/335 [==============================] - 43s 128ms/step - loss: 0.8287 - accuracy: 0.6963 - val_loss: 2.1355 - val_accuracy: 0.5665\n",
            "Epoch 33/100\n",
            "335/335 [==============================] - 42s 126ms/step - loss: 0.8493 - accuracy: 0.6976 - val_loss: 2.2542 - val_accuracy: 0.5351\n",
            "Epoch 34/100\n",
            "335/335 [==============================] - 42s 126ms/step - loss: 0.8090 - accuracy: 0.7068 - val_loss: 2.0556 - val_accuracy: 0.5770\n",
            "Epoch 35/100\n",
            "335/335 [==============================] - 42s 126ms/step - loss: 0.8101 - accuracy: 0.7023 - val_loss: 2.0658 - val_accuracy: 0.5665\n",
            "Epoch 36/100\n",
            "335/335 [==============================] - 43s 127ms/step - loss: 0.8115 - accuracy: 0.7030 - val_loss: 2.0615 - val_accuracy: 0.5755\n",
            "Epoch 37/100\n",
            "335/335 [==============================] - 43s 128ms/step - loss: 0.7826 - accuracy: 0.7109 - val_loss: 2.0543 - val_accuracy: 0.5815\n",
            "Epoch 38/100\n",
            "335/335 [==============================] - 43s 128ms/step - loss: 0.7680 - accuracy: 0.7152 - val_loss: 2.0020 - val_accuracy: 0.5665\n",
            "Epoch 39/100\n",
            "335/335 [==============================] - 43s 128ms/step - loss: 0.7840 - accuracy: 0.7171 - val_loss: 1.9863 - val_accuracy: 0.5874\n",
            "Epoch 40/100\n",
            "335/335 [==============================] - 42s 125ms/step - loss: 0.7546 - accuracy: 0.7150 - val_loss: 2.0432 - val_accuracy: 0.5845\n",
            "Epoch 41/100\n",
            "335/335 [==============================] - ETA: 0s - loss: 0.7758 - accuracy: 0.7115Restoring model weights from the end of the best epoch: 21.\n",
            "335/335 [==============================] - 43s 128ms/step - loss: 0.7758 - accuracy: 0.7115 - val_loss: 2.1018 - val_accuracy: 0.5815\n",
            "Epoch 41: early stopping\n"
          ]
        }
      ]
    },
    {
      "cell_type": "code",
      "source": [
        "model.save('art_recognition_model')"
      ],
      "metadata": {
        "colab": {
          "base_uri": "https://localhost:8080/"
        },
        "id": "yUHuUYBZmfya",
        "outputId": "e2d00732-d02e-42a7-a1bc-4c89a5329db4"
      },
      "execution_count": 19,
      "outputs": [
        {
          "output_type": "stream",
          "name": "stderr",
          "text": [
            "WARNING:absl:Found untraced functions such as _jit_compiled_convolution_op, _jit_compiled_convolution_op, _jit_compiled_convolution_op, _jit_compiled_convolution_op, _jit_compiled_convolution_op while saving (showing 5 of 16). These functions will not be directly callable after loading.\n"
          ]
        }
      ]
    },
    {
      "cell_type": "code",
      "source": [
        "acc = history.history['accuracy']\n",
        "val_acc = history.history['val_accuracy']\n",
        "\n",
        "loss = history.history['loss']\n",
        "val_loss = history.history['val_loss']\n",
        "\n",
        "plt.figure(figsize=(8, 8))\n",
        "plt.subplot(2, 1, 1)\n",
        "plt.plot(acc, label='Training Accuracy')\n",
        "plt.plot(val_acc, label='Validation Accuracy')\n",
        "plt.legend(loc='lower right')\n",
        "plt.ylabel('Accuracy')\n",
        "plt.ylim([min(plt.ylim()),1])\n",
        "plt.title('Training and Validation Accuracy')\n",
        "\n",
        "plt.subplot(2, 1, 2)\n",
        "plt.plot(loss, label='Training Loss')\n",
        "plt.plot(val_loss, label='Validation Loss')\n",
        "plt.legend(loc='upper right')\n",
        "plt.ylabel('Cross Entropy')\n",
        "plt.ylim([0,10])\n",
        "plt.title('Training and Validation Loss')\n",
        "plt.xlabel('epoch')\n",
        "plt.show()"
      ],
      "metadata": {
        "id": "tPoKSYJl0Lgw",
        "colab": {
          "base_uri": "https://localhost:8080/",
          "height": 718
        },
        "outputId": "f62ed517-332f-4ec5-cfb0-88a18df302c9"
      },
      "execution_count": 20,
      "outputs": [
        {
          "output_type": "display_data",
          "data": {
            "text/plain": [
              "<Figure size 800x800 with 2 Axes>"
            ],
            "image/png": "[encoded data removed]"
          },
          "metadata": {}
        }
      ]
    },
    {
      "cell_type": "code",
      "source": [
        "# we create the test dataset\n",
        "test_dataset = tf.data.Dataset.from_tensor_slices((X_test, y_test))\n",
        "test_dataset = test_dataset.batch(16)\n",
        "\n",
        "result = model.evaluate(test_dataset)\n",
        "print(result)"
      ],
      "metadata": {
        "colab": {
          "base_uri": "https://localhost:8080/"
        },
        "id": "CP0H40v4bFnk",
        "outputId": "58eeb513-0b0f-4715-832e-ab3539902533"
      },
      "execution_count": 21,
      "outputs": [
        {
          "output_type": "stream",
          "name": "stdout",
          "text": [
            "42/42 [==============================] - 4s 93ms/step - loss: 1.9562 - accuracy: 0.5501\n",
            "[1.9561575651168823, 0.5500747561454773]\n"
          ]
        }
      ]
    }
  ]
}